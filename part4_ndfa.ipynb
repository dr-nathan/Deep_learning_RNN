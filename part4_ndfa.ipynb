{
 "cells": [
  {
   "cell_type": "code",
   "execution_count": 1,
   "metadata": {},
   "outputs": [
    {
     "name": "stderr",
     "output_type": "stream",
     "text": [
      "c:\\Users\\Valen\\miniconda3\\envs\\deeplearning\\lib\\site-packages\\tqdm\\auto.py:22: TqdmWarning: IProgress not found. Please update jupyter and ipywidgets. See https://ipywidgets.readthedocs.io/en/stable/user_install.html\n",
      "  from .autonotebook import tqdm as notebook_tqdm\n"
     ]
    }
   ],
   "source": [
    "from data_rnn import load_ndfa, load_brackets\n",
    "from torch import nn\n",
    "import torch.optim as optim\n",
    "import torch\n",
    "import random\n",
    "from tqdm import tqdm\n",
    "\n",
    "from torch.utils.tensorboard import SummaryWriter\n",
    "writer = SummaryWriter()"
   ]
  },
  {
   "cell_type": "code",
   "execution_count": 2,
   "metadata": {},
   "outputs": [],
   "source": [
    "x_train, (i2w, w2i) = load_ndfa(n=150_000, seed=0)"
   ]
  },
  {
   "cell_type": "code",
   "execution_count": 3,
   "metadata": {},
   "outputs": [
    {
     "data": {
      "text/plain": [
       "150000"
      ]
     },
     "execution_count": 3,
     "metadata": {},
     "output_type": "execute_result"
    }
   ],
   "source": [
    "len(x_train)"
   ]
  },
  {
   "cell_type": "code",
   "execution_count": 4,
   "metadata": {},
   "outputs": [
    {
     "data": {
      "text/plain": [
       "[12, 9, 6, 13, 11, 9, 6, 13, 11, 9, 6, 13, 11, 12]"
      ]
     },
     "execution_count": 4,
     "metadata": {},
     "output_type": "execute_result"
    }
   ],
   "source": [
    "x_train[94000]"
   ]
  },
  {
   "cell_type": "code",
   "execution_count": 5,
   "metadata": {},
   "outputs": [
    {
     "name": "stdout",
     "output_type": "stream",
     "text": [
      "sklm!klm!klm!s\n"
     ]
    }
   ],
   "source": [
    "print(''.join([i2w[i] for i in x_train[97000]]))"
   ]
  },
  {
   "cell_type": "code",
   "execution_count": 6,
   "metadata": {},
   "outputs": [
    {
     "data": {
      "text/plain": [
       "['.pad',\n",
       " '.start',\n",
       " '.end',\n",
       " '.unk',\n",
       " 'k',\n",
       " 'a',\n",
       " 'v',\n",
       " 'm',\n",
       " 'b',\n",
       " 'u',\n",
       " 'c',\n",
       " '!',\n",
       " 's',\n",
       " 'w',\n",
       " 'l']"
      ]
     },
     "execution_count": 6,
     "metadata": {},
     "output_type": "execute_result"
    }
   ],
   "source": [
    "i2w"
   ]
  },
  {
   "cell_type": "code",
   "execution_count": 7,
   "metadata": {},
   "outputs": [
    {
     "data": {
      "text/plain": [
       "15"
      ]
     },
     "execution_count": 7,
     "metadata": {},
     "output_type": "execute_result"
    }
   ],
   "source": [
    "len(i2w)"
   ]
  },
  {
   "cell_type": "code",
   "execution_count": 8,
   "metadata": {},
   "outputs": [
    {
     "name": "stdout",
     "output_type": "stream",
     "text": [
      "torch.Size([125, 160])\n",
      "torch.Size([125, 160])\n"
     ]
    }
   ],
   "source": [
    "max_tokens = 20000\n",
    "batches = []\n",
    "\n",
    "start_seq_len = len(x_train[-1]) + 2\n",
    "batch_x = torch.zeros(size=(max_tokens//start_seq_len, start_seq_len), dtype=torch.long)\n",
    "num_sequences = 0\n",
    "for seq in reversed(x_train):\n",
    "    if num_sequences == batch_x.shape[0]:\n",
    "        batch_y = torch.zeros_like(batch_x, dtype=torch.long)\n",
    "        batch_y[:, :-1] = batch_x[:, 1:]\n",
    "        batches.append((batch_x, batch_y))\n",
    "        seq_len = len(seq) + 2\n",
    "        batch_x = torch.zeros(size=(max_tokens//seq_len, seq_len), dtype=torch.long)\n",
    "        num_sequences = 0\n",
    "    seq = [1] + seq + [2]\n",
    "    batch_x[num_sequences, :len(seq)] = torch.tensor(seq)\n",
    "    num_sequences += 1\n",
    "batches.append((batch_x, batch_y))\n",
    "\n",
    "print(batches[0][0].shape)\n",
    "print(batches[0][1].shape)"
   ]
  },
  {
   "cell_type": "code",
   "execution_count": 9,
   "metadata": {},
   "outputs": [
    {
     "name": "stdout",
     "output_type": "stream",
     "text": [
      "torch.Size([1000, 20])\n"
     ]
    },
    {
     "data": {
      "text/plain": [
       "torch.Size([1000, 20])"
      ]
     },
     "execution_count": 9,
     "metadata": {},
     "output_type": "execute_result"
    }
   ],
   "source": [
    "random.shuffle(batches)\n",
    "print(batches[0][0].shape)\n",
    "batches[0][1].shape"
   ]
  },
  {
   "cell_type": "markdown",
   "metadata": {},
   "source": [
    "## Model"
   ]
  },
  {
   "cell_type": "code",
   "execution_count": 10,
   "metadata": {},
   "outputs": [],
   "source": [
    "class AutoregressModel(nn.Module):\n",
    "    def __init__(self, embedding_dim, hidden_size, dropout, vocab_size, num_layers):\n",
    "        super().__init__()\n",
    "        self.embedding = nn.Embedding(num_embeddings=vocab_size, embedding_dim=embedding_dim, padding_idx=0)\n",
    "        self.lstm = nn.LSTM(input_size=embedding_dim, hidden_size=hidden_size, num_layers=num_layers, batch_first=True, dropout=dropout)\n",
    "        self.out = nn.Linear(in_features=hidden_size, out_features=vocab_size)\n",
    "\n",
    "    def forward(self, input):\n",
    "        embeddings = self.embedding(input)\n",
    "        hidden, _ = self.lstm(embeddings)\n",
    "        out = self.out(hidden)\n",
    "        return out\n",
    "\n"
   ]
  },
  {
   "cell_type": "code",
   "execution_count": 11,
   "metadata": {},
   "outputs": [],
   "source": [
    "import torch.distributions as dist\n",
    "import torch.nn.functional as F\n",
    "def sample(lnprobs, temperature=1.0):\n",
    "    \"\"\"\n",
    "    Sample an element from a categorical distribution\n",
    "    :param lnprobs: Outcome logits\n",
    "    :param temperature: Sampling temperature. 1.0 follows the given\n",
    "    distribution, 0.0 returns the maximum probability element.\n",
    "    :return: The index of the sampled element.\n",
    "    \"\"\"\n",
    "    if temperature == 0.0:\n",
    "        return lnprobs.argmax()\n",
    "    p = F.softmax(lnprobs / temperature, dim=0)\n",
    "    cd = dist.Categorical(p)\n",
    "    return cd.sample()"
   ]
  },
  {
   "cell_type": "code",
   "execution_count": 12,
   "metadata": {},
   "outputs": [
    {
     "name": "stdout",
     "output_type": "stream",
     "text": [
      "Epoch 1/2\n",
      "\n",
      "Batch 50:\n",
      ".start s a b c ! a b c ! a b c ! a b c ! a b c ! a b c ! a b c ! a b c ! a b c ! a b c ! a b c ! a b c ! a b c ! a b c ! a b c ! a b c ! a b c ! a b c ! a b c ! a b c ! s .end\n",
      ".start s k l m ! k l m ! k l m ! k l m ! k l m ! k l m ! k l m ! k l m ! k l m ! k l m ! k l m ! k l m ! k l m ! k l m ! k l m ! k l m ! k l m ! k l m ! k l m ! k l m ! k l m ! k l m ! k l m ! s .end\n",
      ".start s u v w ! u v w ! u v w ! u v w ! u v w ! u v w ! u v w ! u v w ! u v w ! .end\n",
      "\n",
      "Batch 100:\n",
      ".start s a b c ! a b c ! a b c ! a b c ! a b c ! a b c ! a b c ! a b c ! a b c ! a b c ! a b c ! a b c ! s .end\n",
      ".start s k l m ! k l m ! k l m ! k l m ! k l m ! k l m ! k l m ! k l m ! k l m ! s .end\n",
      ".start s u v w ! u v w ! u v w ! u v w ! s .end\n",
      "Epoch 2/2\n",
      "\n",
      "Batch 150:\n",
      ".start s a b c ! a b c ! a b c ! a b c ! a b c ! a b c ! a b c ! a b c ! a b c ! a b c ! a b c ! a b c ! a b c ! a b c ! a b c ! a b c ! a b c ! a b c ! a b c ! a b c ! a b c ! a b c ! a b c ! a b c ! a b c ! a b c ! a b c ! a b c ! a b c ! a b c ! a b c ! a b c ! a b c ! a b c ! a b c ! a b c ! a b c ! a b c ! a b c ! a b c !\n",
      ".start s k l m ! k l m ! k l m ! s .end\n",
      ".start s u v w ! u v w ! u v w ! u v w ! u v w ! u v w ! u v w ! u v w ! u v w ! u v w ! u v w ! u v w ! u v w ! u v w ! u v w ! s .end\n",
      "\n",
      "Batch 200:\n",
      ".start s a b c ! a b c ! a b c ! a b c ! a b c ! s .end\n",
      ".start s k l m ! s .end\n",
      ".start s u v w ! u v w ! u v w ! u v w ! u v w ! u v w ! u v w ! u v w ! u v w ! u v w ! u v w ! u v w ! s .end\n",
      "\n",
      "DONE\n",
      "\n",
      ".start s a b c ! a b c ! a b c ! a b c ! a b c ! a b c ! a b c ! a b c ! a b c ! a b c ! a b c ! a b c ! a b c ! a b c ! a b c ! a b c ! a b c ! a b c ! a b c ! a b c ! a b c ! a b c ! a b c ! a b c ! a b c ! a b c ! a b c ! a b c ! a b c ! a b c ! a b c ! a b c ! a b c ! a b c ! a b c ! a b c ! a b c ! a b c ! a b c ! a b c !\n",
      ".start s k l m ! k l m ! k l m ! k l m ! k l m ! s .end\n",
      ".start s u v w ! u v w ! u v w ! u v w ! u v w ! u v w ! u v w ! u v w ! u v w ! u v w ! u v w ! u v w ! u v w ! u v w ! u v w ! u v w ! u v w ! u v w ! u v w ! u v w ! u v w ! u v w ! u v w ! u v w ! u v w ! u v w ! u v w ! u v w ! u v w ! u v w ! u v w ! u v w ! u v w ! u v w ! u v w ! u v w ! u v w ! u v w ! u v w ! u v w !\n"
     ]
    }
   ],
   "source": [
    "writer = SummaryWriter('runs/optimized')\n",
    "\n",
    "n_epochs = 2\n",
    "\n",
    "hidden_size = 100\n",
    "embedding_dim = 50\n",
    "dropout=0\n",
    "vocab_size = len(i2w)\n",
    "num_layers = 1\n",
    "max_generation_length = 160\n",
    "\n",
    "autoregressmodel = AutoregressModel(\n",
    "    embedding_dim=embedding_dim,\n",
    "    hidden_size=hidden_size,\n",
    "    dropout=dropout,\n",
    "    vocab_size=vocab_size,\n",
    "    num_layers=num_layers)\n",
    "\n",
    "writer.add_graph(autoregressmodel, batches[0][0])\n",
    "\n",
    "criterion = nn.CrossEntropyLoss(ignore_index=0) # TODO reduction=\"sum\"\n",
    "optimizer = optim.Adam(autoregressmodel.parameters(), lr=0.01, weight_decay=0.001)\n",
    "scheduler = optim.lr_scheduler.OneCycleLR(optimizer, max_lr=0.05, steps_per_epoch=len(batches), epochs=n_epochs)\n",
    "\n",
    "for epoch in range(n_epochs):\n",
    "    print(f\"Epoch {epoch+1}/{n_epochs}\")\n",
    "    for i, data in enumerate(batches):\n",
    "        inputs, labels = data\n",
    "        optimizer.zero_grad()\n",
    "        outputs = autoregressmodel(inputs)\n",
    "        outputs = torch.moveaxis(outputs, 1, 2)\n",
    "        loss = criterion(outputs, labels) # TODO is this correct\n",
    "        writer.add_scalar(\"Training loss\", loss, (i+1)+len(batches)*epoch)\n",
    "        loss.backward()\n",
    "        optimizer.step()\n",
    "        scheduler.step()\n",
    "\n",
    "        if ((i+1)+len(batches)*epoch)%50 == 0:\n",
    "            print(f\"\\nBatch {(i+1)+len(batches)*epoch}:\")\n",
    "            for combo in [['.start', 's', 'a', 'b'], ['.start', 's', 'k', 'l'], ['.start', 's', 'u', 'v']]:\n",
    "                seq = torch.tensor([[w2i[char] for char in combo]], dtype=torch.long)\n",
    "                with torch.no_grad():\n",
    "                    pred = autoregressmodel(seq)\n",
    "                    next_char = sample(lnprobs=pred[0][-1], temperature=0.5)\n",
    "                    while seq.shape[1] <= max_generation_length:\n",
    "                        if int(next_char) == 2:\n",
    "                            break\n",
    "                        seq = torch.cat((seq, torch.tensor([[next_char]], dtype=torch.long)), dim=1)\n",
    "                        pred = autoregressmodel(seq)\n",
    "                        next_char = sample(lnprobs=pred[0][-1], temperature=0.5)\n",
    "                seq = torch.cat((seq, torch.tensor([[next_char]], dtype=torch.long)), dim=1)\n",
    "                print(' '.join([i2w[i] for i in seq[0]]))\n",
    "\n",
    "            \n",
    "        \n",
    "print(\"\\nDONE\\n\")\n",
    "\n",
    "for combo in [['.start', 's', 'a', 'b'], ['.start', 's', 'k', 'l'], ['.start', 's', 'u', 'v']]:\n",
    "    seq = torch.tensor([[w2i[char] for char in combo]], dtype=torch.long)\n",
    "    with torch.no_grad():\n",
    "        pred = autoregressmodel(seq)\n",
    "        next_char = sample(lnprobs=pred[0][-1], temperature=0.5)\n",
    "        while seq.shape[1] <= max_generation_length:\n",
    "            if int(next_char) == 2:\n",
    "                break\n",
    "            seq = torch.cat((seq, torch.tensor([[next_char]], dtype=torch.long)), dim=1)\n",
    "            pred = autoregressmodel(seq)\n",
    "            next_char = sample(lnprobs=pred[0][-1], temperature=0.5)\n",
    "    seq = torch.cat((seq, torch.tensor([[next_char]], dtype=torch.long)), dim=1)\n",
    "    print(' '.join([i2w[i] for i in seq[0]]))"
   ]
  },
  {
   "cell_type": "code",
   "execution_count": 18,
   "metadata": {},
   "outputs": [
    {
     "name": "stdout",
     "output_type": "stream",
     "text": [
      "180\n",
      ".start s u v w ! u v w ! u v w ! u v w ! u v w ! u v w ! u v w ! u v w ! u v w ! u v w ! u v w ! u v w ! u v w ! u v w ! u v w ! u v w ! u v w ! u v w ! u v w ! u v w ! u v w ! u v w ! u v w ! u v w ! u v w ! u v w ! u v w ! u v w ! u v w ! u v w ! u v w ! u v w ! u v w ! u v w ! u v w ! u v w ! u v w ! u v w ! u v w ! u v w ! u v w ! u v w ! u v w ! u v w ! s .end\n"
     ]
    }
   ],
   "source": [
    "max_generation_length = 300\n",
    "\n",
    "seq = torch.tensor([[w2i['.start'], w2i['s'], w2i['u'], w2i['v']]], dtype=torch.long)\n",
    "with torch.no_grad():\n",
    "    pred = autoregressmodel(seq)\n",
    "    next_char = sample(lnprobs=pred[0][-1], temperature=0.5)\n",
    "    while seq.shape[1] <= max_generation_length:\n",
    "        if int(next_char) == 2:\n",
    "            break\n",
    "        seq = torch.cat((seq, torch.tensor([[next_char]], dtype=torch.long)), dim=1)\n",
    "        pred = autoregressmodel(seq)\n",
    "        next_char = sample(lnprobs=pred[0][-1], temperature=0.5)\n",
    "seq = torch.cat((seq, torch.tensor([[next_char]], dtype=torch.long)), dim=1)\n",
    "print(seq.shape[1])\n",
    "print(' '.join([i2w[i] for i in seq[0]]))"
   ]
  },
  {
   "cell_type": "code",
   "execution_count": null,
   "metadata": {},
   "outputs": [],
   "source": []
  },
  {
   "cell_type": "code",
   "execution_count": null,
   "metadata": {},
   "outputs": [],
   "source": []
  }
 ],
 "metadata": {
  "kernelspec": {
   "display_name": "Python 3.10.8 ('deeplearning')",
   "language": "python",
   "name": "python3"
  },
  "language_info": {
   "codemirror_mode": {
    "name": "ipython",
    "version": 3
   },
   "file_extension": ".py",
   "mimetype": "text/x-python",
   "name": "python",
   "nbconvert_exporter": "python",
   "pygments_lexer": "ipython3",
   "version": "3.10.8"
  },
  "orig_nbformat": 4,
  "vscode": {
   "interpreter": {
    "hash": "70e5a44d3a559c620f888c9360b519e2b92df5cd3fd7b3fd83bb0747589189a6"
   }
  }
 },
 "nbformat": 4,
 "nbformat_minor": 2
}
